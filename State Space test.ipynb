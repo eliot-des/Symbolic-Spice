{
 "cells": [
  {
   "cell_type": "markdown",
   "metadata": {},
   "source": [
    "# Automated State-Space Formulation test"
   ]
  },
  {
   "cell_type": "code",
   "execution_count": 6,
   "metadata": {},
   "outputs": [],
   "source": [
    "import numpy as np\n",
    "import sympy as sp\n",
    "import symbspice as sps"
   ]
  },
  {
   "cell_type": "code",
   "execution_count": 7,
   "metadata": {},
   "outputs": [],
   "source": [
    "netlist = ['Iin 0 1 1',\n",
    "           'R1 1 0 10e3',\n",
    "           'L1 1 0 10e-3',\n",
    "           'C1 1 0 10e-6']\n",
    "           \n",
    "circuit1 = sps.Circuit(netlist)"
   ]
  },
  {
   "cell_type": "code",
   "execution_count": 8,
   "metadata": {},
   "outputs": [
    {
     "name": "stdout",
     "output_type": "stream",
     "text": [
      "M matrix:\n",
      "⎡1    ⎤\n",
      "⎢──  1⎥\n",
      "⎢R₁   ⎥\n",
      "⎢     ⎥\n",
      "⎣1   0⎦\n",
      "e vector:\n",
      "⎡ v₁ ⎤\n",
      "⎢    ⎥\n",
      "⎣i_C1⎦\n",
      "DLC matrix:\n",
      "⎡1     ⎤\n",
      "⎢──  0 ⎥\n",
      "⎢L₁    ⎥\n",
      "⎢      ⎥\n",
      "⎢    1 ⎥\n",
      "⎢0   ──⎥\n",
      "⎣    C₁⎦\n",
      "SLC matrix:\n",
      "⎡-1  0⎤\n",
      "⎢     ⎥\n",
      "⎣0   1⎦\n",
      "SIV0 matrix:\n"
     ]
    },
    {
     "data": {
      "text/latex": [
       "$\\displaystyle \\left[\\begin{matrix}\\frac{d}{d t} i_{L1}\\\\\\frac{d}{d t} v_{C1}\\end{matrix}\\right] = \\left[\\begin{matrix}0\\\\\\frac{1}{C_{1}}\\end{matrix}\\right] \\left[\\begin{matrix}Iin\\end{matrix}\\right] + \\left[\\begin{matrix}0 & \\frac{1}{L_{1}}\\\\- \\frac{1}{C_{1}} & - \\frac{1}{C_{1} R_{1}}\\end{matrix}\\right] \\left[\\begin{matrix}i_{L1}\\\\v_{C1}\\end{matrix}\\right]$"
      ],
      "text/plain": [
       "Eq(Matrix([\n",
       "[Derivative(i_L1, t)],\n",
       "[Derivative(v_C1, t)]]), Matrix([\n",
       "[   0],\n",
       "[1/C1]])*Matrix([[Iin]]) + Matrix([\n",
       "[    0,       1/L1],\n",
       "[-1/C1, -1/(C1*R1)]])*Matrix([\n",
       "[i_L1],\n",
       "[v_C1]]))"
      ]
     },
     "execution_count": 8,
     "metadata": {},
     "output_type": "execute_result"
    }
   ],
   "source": [
    "ss1 = circuit1.ss() # State-space representation\n",
    "ss1.state_equations()"
   ]
  },
  {
   "cell_type": "code",
   "execution_count": 9,
   "metadata": {},
   "outputs": [
    {
     "data": {
      "text/latex": [
       "$\\displaystyle \\left[\\begin{matrix}\\frac{d}{d t} i_{L1}\\\\\\frac{d}{d t} v_{C1}\\end{matrix}\\right] = \\left[\\begin{matrix}0\\\\\\frac{1}{C_{1}}\\end{matrix}\\right] \\left[\\begin{matrix}Iin\\end{matrix}\\right] + \\left[\\begin{matrix}0 & \\frac{1}{L_{1}}\\\\- \\frac{1}{C_{1}} & - \\frac{1}{C_{1} R_{1}}\\end{matrix}\\right] \\left[\\begin{matrix}i_{L1}\\\\v_{C1}\\end{matrix}\\right]$"
      ],
      "text/plain": [
       "Eq(Matrix([\n",
       "[Derivative(i_L1, t)],\n",
       "[Derivative(v_C1, t)]]), Matrix([\n",
       "[   0],\n",
       "[1/C1]])*Matrix([[Iin]]) + Matrix([\n",
       "[    0,       1/L1],\n",
       "[-1/C1, -1/(C1*R1)]])*Matrix([\n",
       "[i_L1],\n",
       "[v_C1]]))"
      ]
     },
     "execution_count": 9,
     "metadata": {},
     "output_type": "execute_result"
    }
   ],
   "source": [
    "ss1.state_equations()"
   ]
  },
  {
   "cell_type": "code",
   "execution_count": 10,
   "metadata": {},
   "outputs": [
    {
     "data": {
      "text/latex": [
       "$\\displaystyle \\left[\\begin{matrix}v_{1}\\\\i_{C1}\\end{matrix}\\right] = \\left[\\begin{matrix}0\\\\1\\end{matrix}\\right] \\left[\\begin{matrix}Iin\\end{matrix}\\right] + \\left[\\begin{matrix}0 & 1\\\\-1 & - \\frac{1}{R_{1}}\\end{matrix}\\right] \\left[\\begin{matrix}i_{L1}\\\\v_{C1}\\end{matrix}\\right]$"
      ],
      "text/plain": [
       "Eq(Matrix([\n",
       "[  v1],\n",
       "[i_C1]]), Matrix([\n",
       "[0],\n",
       "[1]])*Matrix([[Iin]]) + Matrix([\n",
       "[ 0,     1],\n",
       "[-1, -1/R1]])*Matrix([\n",
       "[i_L1],\n",
       "[v_C1]]))"
      ]
     },
     "execution_count": 10,
     "metadata": {},
     "output_type": "execute_result"
    }
   ],
   "source": [
    "ss1.output_equations()"
   ]
  },
  {
   "cell_type": "code",
   "execution_count": 11,
   "metadata": {},
   "outputs": [],
   "source": [
    "\n",
    "netlist = ['Vin 1 0 1',\n",
    "           'R1 1 2 1',\n",
    "           'C1 2 3 1',\n",
    "           'C2 3 4 1',\n",
    "           'L1 3 0 1',\n",
    "           'R2 4 0 1',\n",
    "           'Iin 0 4 1']\n",
    "\n",
    "circuit2 = sps.Circuit(netlist)"
   ]
  },
  {
   "cell_type": "code",
   "execution_count": 12,
   "metadata": {},
   "outputs": [
    {
     "name": "stdout",
     "output_type": "stream",
     "text": [
      "M matrix:\n",
      "⎡1    -1                    ⎤\n",
      "⎢──   ───  0   0   1  0   0 ⎥\n",
      "⎢R₁    R₁                   ⎥\n",
      "⎢                           ⎥\n",
      "⎢-1   1                     ⎥\n",
      "⎢───  ──   0   0   0  1   0 ⎥\n",
      "⎢ R₁  R₁                    ⎥\n",
      "⎢                           ⎥\n",
      "⎢ 0    0   0   0   0  -1  1 ⎥\n",
      "⎢                           ⎥\n",
      "⎢              1            ⎥\n",
      "⎢ 0    0   0   ──  0  0   -1⎥\n",
      "⎢              R₂           ⎥\n",
      "⎢                           ⎥\n",
      "⎢ 1    0   0   0   0  0   0 ⎥\n",
      "⎢                           ⎥\n",
      "⎢ 0    1   -1  0   0  0   0 ⎥\n",
      "⎢                           ⎥\n",
      "⎣ 0    0   1   -1  0  0   0 ⎦\n",
      "e vector:\n",
      "⎡ v₁  ⎤\n",
      "⎢     ⎥\n",
      "⎢ v₂  ⎥\n",
      "⎢     ⎥\n",
      "⎢ v₃  ⎥\n",
      "⎢     ⎥\n",
      "⎢ v₄  ⎥\n",
      "⎢     ⎥\n",
      "⎢i_Vin⎥\n",
      "⎢     ⎥\n",
      "⎢i_C1 ⎥\n",
      "⎢     ⎥\n",
      "⎣i_C2 ⎦\n",
      "DLC matrix:\n",
      "⎡                1     ⎤\n",
      "⎢0  0  0   0  0  ──  0 ⎥\n",
      "⎢                C₁    ⎥\n",
      "⎢                      ⎥\n",
      "⎢                    1 ⎥\n",
      "⎢0  0  0   0  0  0   ──⎥\n",
      "⎢                    C₂⎥\n",
      "⎢                      ⎥\n",
      "⎢      1               ⎥\n",
      "⎢0  0  ──  0  0  0   0 ⎥\n",
      "⎣      L₁              ⎦\n",
      "SLC matrix:\n",
      "⎡0  0  0 ⎤\n",
      "⎢        ⎥\n",
      "⎢0  0  0 ⎥\n",
      "⎢        ⎥\n",
      "⎢0  0  -1⎥\n",
      "⎢        ⎥\n",
      "⎢0  0  0 ⎥\n",
      "⎢        ⎥\n",
      "⎢0  0  0 ⎥\n",
      "⎢        ⎥\n",
      "⎢1  0  0 ⎥\n",
      "⎢        ⎥\n",
      "⎣0  1  0 ⎦\n",
      "SIV0 matrix:\n"
     ]
    },
    {
     "data": {
      "text/latex": [
       "$\\displaystyle \\left[\\begin{matrix}\\frac{d}{d t} v_{C1}\\\\\\frac{d}{d t} v_{C2}\\\\\\frac{d}{d t} i_{L1}\\end{matrix}\\right] = \\left[\\begin{matrix}\\frac{1}{C_{1} \\left(R_{1} + R_{2}\\right)} & - \\frac{R_{2}}{C_{1} \\left(R_{1} + R_{2}\\right)}\\\\\\frac{1}{C_{2} \\left(R_{1} + R_{2}\\right)} & - \\frac{R_{2}}{C_{2} \\left(R_{1} + R_{2}\\right)}\\\\\\frac{R_{2}}{L_{1} \\left(R_{1} + R_{2}\\right)} & \\frac{R_{1} R_{2}}{L_{1} \\left(R_{1} + R_{2}\\right)}\\end{matrix}\\right] \\left[\\begin{matrix}Vin\\\\Iin\\end{matrix}\\right] + \\left[\\begin{matrix}- \\frac{1}{C_{1} \\left(R_{1} + R_{2}\\right)} & - \\frac{1}{C_{1} \\left(R_{1} + R_{2}\\right)} & \\frac{R_{2}}{C_{1} \\left(R_{1} + R_{2}\\right)}\\\\- \\frac{1}{C_{2} \\left(R_{1} + R_{2}\\right)} & - \\frac{1}{C_{2} \\left(R_{1} + R_{2}\\right)} & - \\frac{R_{1}}{C_{2} \\left(R_{1} + R_{2}\\right)}\\\\- \\frac{R_{2}}{L_{1} \\left(R_{1} + R_{2}\\right)} & \\frac{R_{1}}{L_{1} \\left(R_{1} + R_{2}\\right)} & - \\frac{R_{1} R_{2}}{L_{1} \\left(R_{1} + R_{2}\\right)}\\end{matrix}\\right] \\left[\\begin{matrix}v_{C1}\\\\v_{C2}\\\\i_{L1}\\end{matrix}\\right]$"
      ],
      "text/plain": [
       "Eq(Matrix([\n",
       "[Derivative(v_C1, t)],\n",
       "[Derivative(v_C2, t)],\n",
       "[Derivative(i_L1, t)]]), Matrix([\n",
       "[ 1/(C1*(R1 + R2)),   -R2/(C1*(R1 + R2))],\n",
       "[ 1/(C2*(R1 + R2)),   -R2/(C2*(R1 + R2))],\n",
       "[R2/(L1*(R1 + R2)), R1*R2/(L1*(R1 + R2))]])*Matrix([\n",
       "[Vin],\n",
       "[Iin]]) + Matrix([\n",
       "[ -1/(C1*(R1 + R2)), -1/(C1*(R1 + R2)),     R2/(C1*(R1 + R2))],\n",
       "[ -1/(C2*(R1 + R2)), -1/(C2*(R1 + R2)),    -R1/(C2*(R1 + R2))],\n",
       "[-R2/(L1*(R1 + R2)), R1/(L1*(R1 + R2)), -R1*R2/(L1*(R1 + R2))]])*Matrix([\n",
       "[v_C1],\n",
       "[v_C2],\n",
       "[i_L1]]))"
      ]
     },
     "execution_count": 12,
     "metadata": {},
     "output_type": "execute_result"
    }
   ],
   "source": [
    "ss2 = circuit2.ss() # State-space representation\n",
    "ss2.state_equations()"
   ]
  },
  {
   "cell_type": "code",
   "execution_count": 13,
   "metadata": {},
   "outputs": [
    {
     "data": {
      "text/latex": [
       "$\\displaystyle \\left[\\begin{matrix}v_{1}\\\\v_{2}\\\\v_{3}\\\\v_{4}\\\\i_{Vin}\\\\i_{C1}\\\\i_{C2}\\end{matrix}\\right] = \\left[\\begin{matrix}1 & 0\\\\\\frac{R_{2}}{R_{1} + R_{2}} & \\frac{R_{1} R_{2}}{R_{1} + R_{2}}\\\\\\frac{R_{2}}{R_{1} + R_{2}} & \\frac{R_{1} R_{2}}{R_{1} + R_{2}}\\\\\\frac{R_{2}}{R_{1} + R_{2}} & \\frac{R_{1} R_{2}}{R_{1} + R_{2}}\\\\- \\frac{1}{R_{1} + R_{2}} & \\frac{R_{2}}{R_{1} + R_{2}}\\\\\\frac{1}{R_{1} + R_{2}} & - \\frac{R_{2}}{R_{1} + R_{2}}\\\\\\frac{1}{R_{1} + R_{2}} & - \\frac{R_{2}}{R_{1} + R_{2}}\\end{matrix}\\right] \\left[\\begin{matrix}Vin\\\\Iin\\end{matrix}\\right] + \\left[\\begin{matrix}0 & 0 & 0\\\\\\frac{R_{1}}{R_{1} + R_{2}} & \\frac{R_{1}}{R_{1} + R_{2}} & - \\frac{R_{1} R_{2}}{R_{1} + R_{2}}\\\\- \\frac{R_{2}}{R_{1} + R_{2}} & \\frac{R_{1}}{R_{1} + R_{2}} & - \\frac{R_{1} R_{2}}{R_{1} + R_{2}}\\\\- \\frac{R_{2}}{R_{1} + R_{2}} & - \\frac{R_{2}}{R_{1} + R_{2}} & - \\frac{R_{1} R_{2}}{R_{1} + R_{2}}\\\\\\frac{1}{R_{1} + R_{2}} & \\frac{1}{R_{1} + R_{2}} & - \\frac{R_{2}}{R_{1} + R_{2}}\\\\- \\frac{1}{R_{1} + R_{2}} & - \\frac{1}{R_{1} + R_{2}} & \\frac{R_{2}}{R_{1} + R_{2}}\\\\- \\frac{1}{R_{1} + R_{2}} & - \\frac{1}{R_{1} + R_{2}} & - \\frac{R_{1}}{R_{1} + R_{2}}\\end{matrix}\\right] \\left[\\begin{matrix}v_{C1}\\\\v_{C2}\\\\i_{L1}\\end{matrix}\\right]$"
      ],
      "text/plain": [
       "Eq(Matrix([\n",
       "[   v1],\n",
       "[   v2],\n",
       "[   v3],\n",
       "[   v4],\n",
       "[i_Vin],\n",
       "[ i_C1],\n",
       "[ i_C2]]), Matrix([\n",
       "[           1,               0],\n",
       "[R2/(R1 + R2), R1*R2/(R1 + R2)],\n",
       "[R2/(R1 + R2), R1*R2/(R1 + R2)],\n",
       "[R2/(R1 + R2), R1*R2/(R1 + R2)],\n",
       "[-1/(R1 + R2),    R2/(R1 + R2)],\n",
       "[ 1/(R1 + R2),   -R2/(R1 + R2)],\n",
       "[ 1/(R1 + R2),   -R2/(R1 + R2)]])*Matrix([\n",
       "[Vin],\n",
       "[Iin]]) + Matrix([\n",
       "[            0,             0,                0],\n",
       "[ R1/(R1 + R2),  R1/(R1 + R2), -R1*R2/(R1 + R2)],\n",
       "[-R2/(R1 + R2),  R1/(R1 + R2), -R1*R2/(R1 + R2)],\n",
       "[-R2/(R1 + R2), -R2/(R1 + R2), -R1*R2/(R1 + R2)],\n",
       "[  1/(R1 + R2),   1/(R1 + R2),    -R2/(R1 + R2)],\n",
       "[ -1/(R1 + R2),  -1/(R1 + R2),     R2/(R1 + R2)],\n",
       "[ -1/(R1 + R2),  -1/(R1 + R2),    -R1/(R1 + R2)]])*Matrix([\n",
       "[v_C1],\n",
       "[v_C2],\n",
       "[i_L1]]))"
      ]
     },
     "execution_count": 13,
     "metadata": {},
     "output_type": "execute_result"
    }
   ],
   "source": [
    "ss2.output_equations()"
   ]
  },
  {
   "cell_type": "code",
   "execution_count": null,
   "metadata": {},
   "outputs": [],
   "source": []
  }
 ],
 "metadata": {
  "kernelspec": {
   "display_name": "base",
   "language": "python",
   "name": "python3"
  },
  "language_info": {
   "codemirror_mode": {
    "name": "ipython",
    "version": 3
   },
   "file_extension": ".py",
   "mimetype": "text/x-python",
   "name": "python",
   "nbconvert_exporter": "python",
   "pygments_lexer": "ipython3",
   "version": "3.11.5"
  }
 },
 "nbformat": 4,
 "nbformat_minor": 2
}
